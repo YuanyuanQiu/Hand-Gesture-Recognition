{
 "cells": [
  {
   "cell_type": "markdown",
   "metadata": {},
   "source": [
    "# Import Libraries"
   ]
  },
  {
   "cell_type": "code",
   "execution_count": 1,
   "metadata": {},
   "outputs": [],
   "source": [
    "import numpy as np\n",
    "import os\n",
    "import cv2\n",
    "from prettytable import PrettyTable\n",
    "from matplotlib import pyplot as plt\n",
    "import pathlib\n",
    "import itertools\n",
    "\n",
    "from sklearn import metrics\n",
    "from sklearn.pipeline import Pipeline\n",
    "from sklearn import svm\n",
    "from sklearn.metrics import confusion_matrix\n",
    "from sklearn.ensemble import RandomForestClassifier, AdaBoostClassifier, GradientBoostingClassifier, ExtraTreesClassifier\n",
    "from sklearn.linear_model import SGDClassifier, LogisticRegression\n",
    "from sklearn.neighbors import KNeighborsClassifier\n",
    "from sklearn.naive_bayes import GaussianNB, MultinomialNB, ComplementNB\n",
    "from sklearn.svm import SVC, LinearSVC, NuSVC\n",
    "from sklearn.tree import DecisionTreeClassifier\n",
    "\n",
    "from tensorflow.keras.preprocessing.image import ImageDataGenerator\n",
    "from tensorflow.keras.losses import categorical_crossentropy\n",
    "from tensorflow.keras.models import Sequential\n",
    "from tensorflow.keras.layers import Conv2D, MaxPooling2D,Flatten, Dense, Dropout, BatchNormalization, LeakyReLU"
   ]
  },
  {
   "cell_type": "markdown",
   "metadata": {},
   "source": [
    "# Create Data"
   ]
  },
  {
   "cell_type": "markdown",
   "metadata": {},
   "source": [
    "To capture images for training use the following command\n",
    "\n",
    "python capture.py --grayscale --name thumbsup --mode training\n",
    "* Above command will open a window with video stream from your webcam.\n",
    "* There is a rectangle box on the top left corner, this will be the area captured and saved to disk.\n",
    "* Click \"s\" to capture the current frame and save to disk , click \"q\" to exit.\n",
    "* images will be saved under data/{training|test}/{name}/{name}-1.jpg"
   ]
  },
  {
   "cell_type": "markdown",
   "metadata": {},
   "source": [
    "# Data Overview"
   ]
  },
  {
   "cell_type": "code",
   "execution_count": 2,
   "metadata": {},
   "outputs": [
    {
     "name": "stdout",
     "output_type": "stream",
     "text": [
      "Number of Training Data: 500\n"
     ]
    }
   ],
   "source": [
    "# Training image path\n",
    "imagepaths_train = []\n",
    "\n",
    "for root, dirs, files in os.walk(\"data/training\", topdown=False): \n",
    "    for name in files:\n",
    "        path = os.path.join(root, name)\n",
    "        if path.endswith(\"jpg\"):\n",
    "            imagepaths_train.append(path)\n",
    "\n",
    "print('Number of Training Data:', len(imagepaths_train))"
   ]
  },
  {
   "cell_type": "code",
   "execution_count": 3,
   "metadata": {},
   "outputs": [
    {
     "name": "stdout",
     "output_type": "stream",
     "text": [
      "Number of Test Data: 100\n"
     ]
    }
   ],
   "source": [
    "# Test image path\n",
    "imagepaths_test = []\n",
    "\n",
    "for root, dirs, files in os.walk(\"data/test\", topdown=False): \n",
    "    for name in files:\n",
    "        path = os.path.join(root, name)\n",
    "        if path.endswith(\"jpg\"):\n",
    "            imagepaths_test.append(path)\n",
    "\n",
    "print('Number of Test Data:', len(imagepaths_test))"
   ]
  },
  {
   "cell_type": "code",
   "execution_count": 4,
   "metadata": {},
   "outputs": [],
   "source": [
    "def plot_image(path):\n",
    "    img = cv2.imread(path)\n",
    "    print('image shape:', img.shape)\n",
    "    plt.imshow(img)\n",
    "    plt.xlabel(\"Width\")\n",
    "    plt.ylabel(\"Height\")\n",
    "    plt.title(\"Image \" + path)"
   ]
  },
  {
   "cell_type": "code",
   "execution_count": 5,
   "metadata": {},
   "outputs": [
    {
     "name": "stdout",
     "output_type": "stream",
     "text": [
      "image shape: (64, 64, 3)\n"
     ]
    },
    {
     "data": {
      "image/png": "[encoded data removed]",
      "text/plain": [
       "<Figure size 432x288 with 1 Axes>"
      ]
     },
     "metadata": {
      "needs_background": "light"
     },
     "output_type": "display_data"
    }
   ],
   "source": [
    "plot_image(imagepaths_train[0])"
   ]
  },
  {
   "cell_type": "code",
   "execution_count": 6,
   "metadata": {},
   "outputs": [
    {
     "name": "stdout",
     "output_type": "stream",
     "text": [
      "image shape: (64, 64, 3)\n"
     ]
    },
    {
     "data": {
      "image/png": "[encoded data removed]",
      "text/plain": [
       "<Figure size 432x288 with 1 Axes>"
      ]
     },
     "metadata": {
      "needs_background": "light"
     },
     "output_type": "display_data"
    }
   ],
   "source": [
    "plot_image(imagepaths_test[0])"
   ]
  },
  {
   "cell_type": "markdown",
   "metadata": {},
   "source": [
    "# Data Preprocessing"
   ]
  },
  {
   "cell_type": "markdown",
   "metadata": {},
   "source": [
    "## For Traditional ML classifiers"
   ]
  },
  {
   "cell_type": "code",
   "execution_count": 7,
   "metadata": {},
   "outputs": [],
   "source": [
    "X_train = [] # Image data\n",
    "y_train = [] # Labels\n",
    "\n",
    "# Loops through imagepaths to load images and labels into arrays\n",
    "for path in imagepaths_train:\n",
    "    img = cv2.imread(path) # Reads image and returns np.array\n",
    "    img = cv2.cvtColor(img, cv2.COLOR_BGR2GRAY)\n",
    "    img = img.flatten()\n",
    "    X_train.append(img)\n",
    "  \n",
    "    # Processing label in image path\n",
    "    try:\n",
    "        category = path.split(\"\\\\\")[1]\n",
    "    except:\n",
    "        category = path.split(\"/\")[-2]\n",
    "    y_train.append(category)\n",
    "\n",
    "X_test = [] # Image data\n",
    "y_test = [] # Labels\n",
    "\n",
    "# Loops through imagepaths to load images and labels into arrays\n",
    "for path in imagepaths_test:\n",
    "    img = cv2.imread(path) # Reads image and returns np.array\n",
    "    img = cv2.cvtColor(img, cv2.COLOR_BGR2GRAY)\n",
    "    img = img.flatten()\n",
    "    X_test.append(img)\n",
    "\n",
    "    # Processing label in image path\n",
    "    try:\n",
    "        category = path.split(\"\\\\\")[1]\n",
    "    except:\n",
    "        category = path.split(\"/\")[-2]\n",
    "    y_test.append(category)"
   ]
  },
  {
   "cell_type": "markdown",
   "metadata": {},
   "source": [
    "## For Neural Network"
   ]
  },
  {
   "cell_type": "code",
   "execution_count": 8,
   "metadata": {},
   "outputs": [],
   "source": [
    "# The iterator will return one batch of augmented images for each iteration.\n",
    "batch_size=16\n",
    "def get_train_generator():\n",
    "    train_datagen = ImageDataGenerator(\n",
    "        rescale=1./255,\n",
    "        rotation_range=5,\n",
    "        zoom_range=0.2,\n",
    "        shear_range=0.2,\n",
    "        height_shift_range=0.2,\n",
    "        width_shift_range=0.2,\n",
    "        horizontal_flip=True\n",
    "    )\n",
    "\n",
    "    return train_datagen.flow_from_directory(\n",
    "        training_path, target_size=(64, 64), class_mode='categorical',\n",
    "        batch_size=batch_size, shuffle=True, color_mode='grayscale')\n",
    "\n",
    "\n",
    "def get_test_generator():\n",
    "    test_datagen = ImageDataGenerator(\n",
    "        rescale=1./255,\n",
    "        rotation_range=5,\n",
    "        zoom_range=0.2,\n",
    "        horizontal_flip=True\n",
    "    )\n",
    "    return test_datagen.flow_from_directory(\n",
    "        test_path, target_size=(64, 64), class_mode='categorical', color_mode='grayscale', shuffle = False)"
   ]
  },
  {
   "cell_type": "code",
   "execution_count": 9,
   "metadata": {},
   "outputs": [
    {
     "name": "stdout",
     "output_type": "stream",
     "text": [
      "Found 500 images belonging to 10 classes.\n",
      "Found 100 images belonging to 10 classes.\n"
     ]
    }
   ],
   "source": [
    "training_path = pathlib.Path('.').joinpath('data', 'training')\n",
    "test_path = pathlib.Path('.').joinpath('data', 'test')\n",
    "NUM_CLASSES = 10\n",
    "\n",
    "train_generator = get_train_generator()\n",
    "test_generator = get_test_generator()"
   ]
  },
  {
   "cell_type": "markdown",
   "metadata": {},
   "source": [
    "# Model"
   ]
  },
  {
   "cell_type": "markdown",
   "metadata": {},
   "source": [
    "## Traditional ML Classifiers"
   ]
  },
  {
   "cell_type": "code",
   "execution_count": 10,
   "metadata": {},
   "outputs": [],
   "source": [
    "classifiers = [\n",
    "    KNeighborsClassifier(10),\n",
    "    SVC(C=0.025, probability=True),\n",
    "    NuSVC(probability=True,kernel='rbf',nu=0.01),\n",
    "    DecisionTreeClassifier(),\n",
    "    RandomForestClassifier(),\n",
    "    AdaBoostClassifier(),\n",
    "    GradientBoostingClassifier(),\n",
    "    SGDClassifier()\n",
    "    ]"
   ]
  },
  {
   "cell_type": "code",
   "execution_count": 11,
   "metadata": {},
   "outputs": [
    {
     "name": "stdout",
     "output_type": "stream",
     "text": [
      "+--------------------------------------+-------+\n",
      "|                Model                 | Score |\n",
      "+--------------------------------------+-------+\n",
      "| KNeighborsClassifier(n_neighbors=10) |  0.13 |\n",
      "|    SVC(C=0.025, probability=True)    |  0.13 |\n",
      "|   NuSVC(nu=0.01, probability=True)   |  0.16 |\n",
      "|       DecisionTreeClassifier()       |  0.08 |\n",
      "|       RandomForestClassifier()       |  0.1  |\n",
      "|         AdaBoostClassifier()         |  0.1  |\n",
      "|     GradientBoostingClassifier()     |  0.12 |\n",
      "|           SGDClassifier()            |  0.12 |\n",
      "+--------------------------------------+-------+\n"
     ]
    }
   ],
   "source": [
    "table = PrettyTable(['Model','Score'])\n",
    "\n",
    "for classifier in classifiers:\n",
    "    pipe = Pipeline(steps=[('classifier', classifier)])\n",
    "    pipe.fit(X_train, y_train)\n",
    "    y_pred = pipe.predict(X_test)\n",
    "    \n",
    "    score = round(pipe.score(X_test, y_test),4)\n",
    "    table.add_row([classifier, score])\n",
    "\n",
    "print(table)"
   ]
  },
  {
   "cell_type": "markdown",
   "metadata": {},
   "source": [
    "## CNN"
   ]
  },
  {
   "cell_type": "code",
   "execution_count": 10,
   "metadata": {},
   "outputs": [],
   "source": [
    "def create_model(num_classes):\n",
    "    \"\"\"\n",
    "    Create modal structure\n",
    "    \"\"\"\n",
    "    model = Sequential([\n",
    "        Conv2D(32, (3, 3), padding=\"same\",\n",
    "               activation=\"relu\", input_shape=(64, 64, 1)),\n",
    "        Conv2D(32, (3, 3), padding=\"same\", activation=\"relu\"),\n",
    "        MaxPooling2D(),\n",
    "\n",
    "        Conv2D(64, (3, 3), padding=\"same\", activation=\"relu\"),\n",
    "        Conv2D(64, (3, 3), padding=\"same\", activation=\"relu\"),\n",
    "        BatchNormalization(),\n",
    "        MaxPooling2D((2, 2)),\n",
    "\n",
    "        Conv2D(128, (3, 3), padding=\"same\", activation=\"relu\"),\n",
    "        MaxPooling2D((2, 2)),\n",
    "\n",
    "        Conv2D(128, (3, 3), padding=\"same\", activation=\"relu\"),\n",
    "        Conv2D(256, (3, 3), padding=\"same\", activation=\"relu\"),\n",
    "        MaxPooling2D((2, 2)),\n",
    "\n",
    "        Conv2D(256, (3, 3), padding=\"same\", activation=\"relu\"),\n",
    "        BatchNormalization(),\n",
    "        MaxPooling2D((2, 2)),\n",
    "\n",
    "        Conv2D(512, (3, 3), padding=\"same\"),\n",
    "        LeakyReLU(),\n",
    "        MaxPooling2D((2, 2)),\n",
    "\n",
    "        Flatten(),\n",
    "        Dense(1024, activation='relu'),\n",
    "        Dropout(0.7),\n",
    "        Dense(256, activation='relu'),\n",
    "        Dense(num_classes, activation='softmax')\n",
    "    ])\n",
    "\n",
    "    return model"
   ]
  },
  {
   "cell_type": "code",
   "execution_count": 11,
   "metadata": {},
   "outputs": [
    {
     "name": "stdout",
     "output_type": "stream",
     "text": [
      "Model: \"sequential\"\n",
      "_________________________________________________________________\n",
      "Layer (type)                 Output Shape              Param #   \n",
      "=================================================================\n",
      "conv2d (Conv2D)              (None, 64, 64, 32)        320       \n",
      "_________________________________________________________________\n",
      "conv2d_1 (Conv2D)            (None, 64, 64, 32)        9248      \n",
      "_________________________________________________________________\n",
      "max_pooling2d (MaxPooling2D) (None, 32, 32, 32)        0         \n",
      "_________________________________________________________________\n",
      "conv2d_2 (Conv2D)            (None, 32, 32, 64)        18496     \n",
      "_________________________________________________________________\n",
      "conv2d_3 (Conv2D)            (None, 32, 32, 64)        36928     \n",
      "_________________________________________________________________\n",
      "batch_normalization (BatchNo (None, 32, 32, 64)        256       \n",
      "_________________________________________________________________\n",
      "max_pooling2d_1 (MaxPooling2 (None, 16, 16, 64)        0         \n",
      "_________________________________________________________________\n",
      "conv2d_4 (Conv2D)            (None, 16, 16, 128)       73856     \n",
      "_________________________________________________________________\n",
      "max_pooling2d_2 (MaxPooling2 (None, 8, 8, 128)         0         \n",
      "_________________________________________________________________\n",
      "conv2d_5 (Conv2D)            (None, 8, 8, 128)         147584    \n",
      "_________________________________________________________________\n",
      "conv2d_6 (Conv2D)            (None, 8, 8, 256)         295168    \n",
      "_________________________________________________________________\n",
      "max_pooling2d_3 (MaxPooling2 (None, 4, 4, 256)         0         \n",
      "_________________________________________________________________\n",
      "conv2d_7 (Conv2D)            (None, 4, 4, 256)         590080    \n",
      "_________________________________________________________________\n",
      "batch_normalization_1 (Batch (None, 4, 4, 256)         1024      \n",
      "_________________________________________________________________\n",
      "max_pooling2d_4 (MaxPooling2 (None, 2, 2, 256)         0         \n",
      "_________________________________________________________________\n",
      "conv2d_8 (Conv2D)            (None, 2, 2, 512)         1180160   \n",
      "_________________________________________________________________\n",
      "leaky_re_lu (LeakyReLU)      (None, 2, 2, 512)         0         \n",
      "_________________________________________________________________\n",
      "max_pooling2d_5 (MaxPooling2 (None, 1, 1, 512)         0         \n",
      "_________________________________________________________________\n",
      "flatten (Flatten)            (None, 512)               0         \n",
      "_________________________________________________________________\n",
      "dense (Dense)                (None, 1024)              525312    \n",
      "_________________________________________________________________\n",
      "dropout (Dropout)            (None, 1024)              0         \n",
      "_________________________________________________________________\n",
      "dense_1 (Dense)              (None, 256)               262400    \n",
      "_________________________________________________________________\n",
      "dense_2 (Dense)              (None, 10)                2570      \n",
      "=================================================================\n",
      "Total params: 3,143,402\n",
      "Trainable params: 3,142,762\n",
      "Non-trainable params: 640\n",
      "_________________________________________________________________\n"
     ]
    }
   ],
   "source": [
    "model = create_model(train_generator.num_classes)\n",
    "model.summary()"
   ]
  },
  {
   "cell_type": "code",
   "execution_count": 12,
   "metadata": {},
   "outputs": [
    {
     "name": "stdout",
     "output_type": "stream",
     "text": [
      "Epoch 1/100\n",
      "31/31 [==============================] - 8s 261ms/step - loss: 2.8418 - accuracy: 0.0785 - val_loss: 2.6201 - val_accuracy: 0.0000e+00\n",
      "Epoch 2/100\n",
      "31/31 [==============================] - 8s 262ms/step - loss: 2.5071 - accuracy: 0.1157 - val_loss: 3.1328 - val_accuracy: 0.0000e+00\n",
      "Epoch 3/100\n",
      "31/31 [==============================] - 8s 257ms/step - loss: 2.2643 - accuracy: 0.2190 - val_loss: 9.7748 - val_accuracy: 0.3125\n",
      "Epoch 4/100\n",
      "31/31 [==============================] - 8s 258ms/step - loss: 2.1181 - accuracy: 0.2376 - val_loss: 11.8856 - val_accuracy: 0.3125\n",
      "Epoch 5/100\n",
      "31/31 [==============================] - 8s 257ms/step - loss: 2.0654 - accuracy: 0.2645 - val_loss: 21.9373 - val_accuracy: 0.3125\n",
      "Epoch 6/100\n",
      "31/31 [==============================] - 8s 260ms/step - loss: 1.9163 - accuracy: 0.2913 - val_loss: 19.8313 - val_accuracy: 0.3125\n",
      "Epoch 7/100\n",
      "31/31 [==============================] - 8s 264ms/step - loss: 1.8062 - accuracy: 0.3448 - val_loss: 8.4172 - val_accuracy: 0.3125\n",
      "Epoch 8/100\n",
      "31/31 [==============================] - 9s 275ms/step - loss: 1.7303 - accuracy: 0.3306 - val_loss: 3.0707 - val_accuracy: 0.2500\n",
      "Epoch 9/100\n",
      "31/31 [==============================] - 8s 265ms/step - loss: 1.7604 - accuracy: 0.3430 - val_loss: 2.9377 - val_accuracy: 0.3125\n",
      "Epoch 10/100\n",
      "31/31 [==============================] - 8s 258ms/step - loss: 1.5117 - accuracy: 0.4112 - val_loss: 1.5566 - val_accuracy: 0.4375\n",
      "Epoch 11/100\n",
      "31/31 [==============================] - 8s 260ms/step - loss: 1.3881 - accuracy: 0.4380 - val_loss: 3.3550 - val_accuracy: 0.3125\n",
      "Epoch 12/100\n",
      "31/31 [==============================] - 8s 264ms/step - loss: 1.3218 - accuracy: 0.4814 - val_loss: 1.4868 - val_accuracy: 0.3125\n",
      "Epoch 13/100\n",
      "31/31 [==============================] - 8s 263ms/step - loss: 1.3155 - accuracy: 0.5000 - val_loss: 1.3684 - val_accuracy: 0.4375\n",
      "Epoch 14/100\n",
      "31/31 [==============================] - 8s 261ms/step - loss: 1.4903 - accuracy: 0.4215 - val_loss: 1.5919 - val_accuracy: 0.2500\n",
      "Epoch 15/100\n",
      "31/31 [==============================] - 8s 262ms/step - loss: 1.1757 - accuracy: 0.5207 - val_loss: 2.4551 - val_accuracy: 0.0312\n",
      "Epoch 16/100\n",
      "31/31 [==============================] - 8s 262ms/step - loss: 1.1200 - accuracy: 0.5455 - val_loss: 1.6957 - val_accuracy: 0.0312\n",
      "Epoch 17/100\n",
      "31/31 [==============================] - 8s 258ms/step - loss: 1.0940 - accuracy: 0.5517 - val_loss: 3.3802 - val_accuracy: 0.1875\n",
      "Epoch 18/100\n",
      "31/31 [==============================] - 8s 264ms/step - loss: 1.3034 - accuracy: 0.4793 - val_loss: 1.3044 - val_accuracy: 0.4688\n",
      "Epoch 19/100\n",
      "31/31 [==============================] - 8s 265ms/step - loss: 1.0944 - accuracy: 0.5640 - val_loss: 0.8749 - val_accuracy: 0.5312\n",
      "Epoch 20/100\n",
      "31/31 [==============================] - 8s 267ms/step - loss: 1.0071 - accuracy: 0.5746 - val_loss: 1.8400 - val_accuracy: 0.0625\n",
      "Epoch 21/100\n",
      "31/31 [==============================] - 8s 265ms/step - loss: 0.9123 - accuracy: 0.6136 - val_loss: 1.1400 - val_accuracy: 0.5000\n",
      "Epoch 22/100\n",
      "31/31 [==============================] - 8s 268ms/step - loss: 0.8290 - accuracy: 0.6467 - val_loss: 1.8008 - val_accuracy: 0.2500\n",
      "Epoch 23/100\n",
      "31/31 [==============================] - 8s 260ms/step - loss: 0.9970 - accuracy: 0.6302 - val_loss: 2.5427 - val_accuracy: 0.1875\n",
      "Epoch 24/100\n",
      "31/31 [==============================] - 8s 260ms/step - loss: 0.9647 - accuracy: 0.6219 - val_loss: 2.0799 - val_accuracy: 0.3750\n",
      "Epoch 25/100\n",
      "31/31 [==============================] - 8s 265ms/step - loss: 0.9140 - accuracy: 0.6653 - val_loss: 1.8145 - val_accuracy: 0.5312\n",
      "Epoch 26/100\n",
      "31/31 [==============================] - 8s 263ms/step - loss: 0.7281 - accuracy: 0.7004 - val_loss: 2.2319 - val_accuracy: 0.3438\n",
      "Epoch 27/100\n",
      "31/31 [==============================] - 8s 260ms/step - loss: 0.9435 - accuracy: 0.6446 - val_loss: 1.1999 - val_accuracy: 0.4062\n",
      "Epoch 28/100\n",
      "31/31 [==============================] - 8s 260ms/step - loss: 0.8296 - accuracy: 0.6508 - val_loss: 2.7034 - val_accuracy: 0.3438\n",
      "Epoch 29/100\n",
      "31/31 [==============================] - 8s 262ms/step - loss: 0.6641 - accuracy: 0.7438 - val_loss: 1.6102 - val_accuracy: 0.4688\n",
      "Epoch 30/100\n",
      "31/31 [==============================] - 8s 259ms/step - loss: 0.5999 - accuracy: 0.7851 - val_loss: 1.0685 - val_accuracy: 0.7500\n",
      "Epoch 31/100\n",
      "31/31 [==============================] - 8s 264ms/step - loss: 0.7275 - accuracy: 0.7314 - val_loss: 1.5744 - val_accuracy: 0.5312\n",
      "Epoch 32/100\n",
      "31/31 [==============================] - 8s 265ms/step - loss: 0.5526 - accuracy: 0.7975 - val_loss: 1.9351 - val_accuracy: 0.3125\n",
      "Epoch 33/100\n",
      "31/31 [==============================] - 8s 261ms/step - loss: 0.6813 - accuracy: 0.7211 - val_loss: 0.7675 - val_accuracy: 0.5625\n",
      "Epoch 34/100\n",
      "31/31 [==============================] - 9s 286ms/step - loss: 0.7120 - accuracy: 0.7459 - val_loss: 1.1696 - val_accuracy: 0.5625\n",
      "Epoch 35/100\n",
      "31/31 [==============================] - 8s 256ms/step - loss: 0.5497 - accuracy: 0.7831 - val_loss: 1.1861 - val_accuracy: 0.3438\n",
      "Epoch 36/100\n",
      "31/31 [==============================] - 8s 263ms/step - loss: 0.4582 - accuracy: 0.8326 - val_loss: 1.2028 - val_accuracy: 0.4375\n",
      "Epoch 37/100\n",
      "31/31 [==============================] - 8s 250ms/step - loss: 0.4113 - accuracy: 0.8450 - val_loss: 1.2041 - val_accuracy: 0.5000\n",
      "Epoch 38/100\n",
      "31/31 [==============================] - 8s 254ms/step - loss: 0.4640 - accuracy: 0.8368 - val_loss: 0.8977 - val_accuracy: 0.6562\n",
      "Epoch 39/100\n",
      "31/31 [==============================] - 8s 255ms/step - loss: 0.7382 - accuracy: 0.7541 - val_loss: 2.6233 - val_accuracy: 0.3438\n",
      "Epoch 40/100\n",
      "31/31 [==============================] - 8s 252ms/step - loss: 0.5041 - accuracy: 0.8017 - val_loss: 1.0534 - val_accuracy: 0.4062\n",
      "Epoch 41/100\n",
      "31/31 [==============================] - 8s 255ms/step - loss: 0.3844 - accuracy: 0.8368 - val_loss: 0.6085 - val_accuracy: 0.7188\n",
      "Epoch 42/100\n",
      "31/31 [==============================] - 8s 257ms/step - loss: 0.3438 - accuracy: 0.8740 - val_loss: 0.7415 - val_accuracy: 0.6250\n",
      "Epoch 43/100\n",
      "31/31 [==============================] - 8s 254ms/step - loss: 0.4159 - accuracy: 0.8719 - val_loss: 1.1712 - val_accuracy: 0.5938\n",
      "Epoch 44/100\n",
      "31/31 [==============================] - 10s 315ms/step - loss: 0.4325 - accuracy: 0.8554 - val_loss: 2.4398 - val_accuracy: 0.2500\n",
      "Epoch 45/100\n",
      "31/31 [==============================] - 10s 307ms/step - loss: 0.2290 - accuracy: 0.9215 - val_loss: 0.7465 - val_accuracy: 0.5000\n",
      "Epoch 46/100\n",
      "31/31 [==============================] - 9s 277ms/step - loss: 0.2680 - accuracy: 0.9050 - val_loss: 0.7428 - val_accuracy: 0.5312\n",
      "Epoch 47/100\n",
      "31/31 [==============================] - 8s 258ms/step - loss: 0.4355 - accuracy: 0.8388 - val_loss: 1.6867 - val_accuracy: 0.5000\n",
      "Epoch 48/100\n",
      "31/31 [==============================] - 8s 262ms/step - loss: 0.3420 - accuracy: 0.8884 - val_loss: 1.9878 - val_accuracy: 0.5625\n",
      "Epoch 49/100\n",
      "31/31 [==============================] - 8s 264ms/step - loss: 0.5489 - accuracy: 0.8368 - val_loss: 11.2584 - val_accuracy: 0.0625\n",
      "Epoch 50/100\n",
      "31/31 [==============================] - 8s 264ms/step - loss: 0.7283 - accuracy: 0.7624 - val_loss: 1.1325 - val_accuracy: 0.5000\n",
      "Epoch 51/100\n",
      "31/31 [==============================] - 8s 264ms/step - loss: 0.4234 - accuracy: 0.8326 - val_loss: 0.8170 - val_accuracy: 0.6250\n",
      "Epoch 52/100\n",
      "31/31 [==============================] - 8s 262ms/step - loss: 0.2605 - accuracy: 0.9091 - val_loss: 0.5558 - val_accuracy: 0.8438\n",
      "Epoch 53/100\n",
      "31/31 [==============================] - 8s 262ms/step - loss: 0.2525 - accuracy: 0.9153 - val_loss: 2.1680 - val_accuracy: 0.6250\n",
      "Epoch 54/100\n",
      "31/31 [==============================] - 8s 261ms/step - loss: 0.7227 - accuracy: 0.8099 - val_loss: 0.7545 - val_accuracy: 0.5938\n",
      "Epoch 55/100\n",
      "31/31 [==============================] - 8s 265ms/step - loss: 0.3255 - accuracy: 0.8843 - val_loss: 0.7359 - val_accuracy: 0.6562\n",
      "Epoch 56/100\n",
      "31/31 [==============================] - 8s 265ms/step - loss: 0.5532 - accuracy: 0.8533 - val_loss: 3.7351 - val_accuracy: 0.3125\n",
      "Epoch 57/100\n",
      "31/31 [==============================] - 8s 263ms/step - loss: 0.6489 - accuracy: 0.7624 - val_loss: 1.2583 - val_accuracy: 0.6562\n"
     ]
    },
    {
     "name": "stdout",
     "output_type": "stream",
     "text": [
      "Epoch 58/100\n",
      "31/31 [==============================] - 8s 261ms/step - loss: 0.2996 - accuracy: 0.8988 - val_loss: 1.8269 - val_accuracy: 0.3438\n",
      "Epoch 59/100\n",
      "31/31 [==============================] - 8s 258ms/step - loss: 0.3839 - accuracy: 0.8781 - val_loss: 1.5755 - val_accuracy: 0.5312\n",
      "Epoch 60/100\n",
      "31/31 [==============================] - 8s 257ms/step - loss: 0.3637 - accuracy: 0.8822 - val_loss: 1.3609 - val_accuracy: 0.6250\n",
      "Epoch 61/100\n",
      "31/31 [==============================] - 8s 261ms/step - loss: 0.2234 - accuracy: 0.9318 - val_loss: 1.7596 - val_accuracy: 0.5000\n",
      "Epoch 62/100\n",
      "31/31 [==============================] - 8s 267ms/step - loss: 0.3066 - accuracy: 0.9215 - val_loss: 3.3173 - val_accuracy: 0.3438\n",
      "Epoch 63/100\n",
      "31/31 [==============================] - 9s 289ms/step - loss: 0.2546 - accuracy: 0.9380 - val_loss: 0.7252 - val_accuracy: 0.7812\n",
      "Epoch 64/100\n",
      "31/31 [==============================] - 9s 284ms/step - loss: 0.1773 - accuracy: 0.9380 - val_loss: 1.0194 - val_accuracy: 0.7500\n",
      "Epoch 65/100\n",
      "31/31 [==============================] - 8s 269ms/step - loss: 0.1230 - accuracy: 0.9649 - val_loss: 0.6144 - val_accuracy: 0.7188\n",
      "Epoch 66/100\n",
      "31/31 [==============================] - 8s 264ms/step - loss: 0.3118 - accuracy: 0.9153 - val_loss: 0.6093 - val_accuracy: 0.7188\n",
      "Epoch 67/100\n",
      "31/31 [==============================] - 8s 266ms/step - loss: 0.2635 - accuracy: 0.9298 - val_loss: 1.6400 - val_accuracy: 0.4688\n",
      "Epoch 68/100\n",
      "31/31 [==============================] - 8s 261ms/step - loss: 0.1861 - accuracy: 0.9360 - val_loss: 0.7757 - val_accuracy: 0.6875\n",
      "Epoch 69/100\n",
      "31/31 [==============================] - 9s 281ms/step - loss: 0.3076 - accuracy: 0.8946 - val_loss: 1.5317 - val_accuracy: 0.5000\n",
      "Epoch 70/100\n",
      "31/31 [==============================] - 8s 270ms/step - loss: 0.3329 - accuracy: 0.9132 - val_loss: 0.6049 - val_accuracy: 0.7500\n",
      "Epoch 71/100\n",
      "31/31 [==============================] - 8s 263ms/step - loss: 0.2453 - accuracy: 0.9339 - val_loss: 1.2059 - val_accuracy: 0.5625\n",
      "Epoch 72/100\n",
      "31/31 [==============================] - 10s 307ms/step - loss: 0.2379 - accuracy: 0.9236 - val_loss: 2.3872 - val_accuracy: 0.1875\n",
      "Epoch 73/100\n",
      "31/31 [==============================] - 8s 273ms/step - loss: 0.3432 - accuracy: 0.9008 - val_loss: 2.4596 - val_accuracy: 0.5938\n",
      "Epoch 74/100\n",
      "31/31 [==============================] - 8s 262ms/step - loss: 0.2394 - accuracy: 0.9442 - val_loss: 1.0546 - val_accuracy: 0.7188\n",
      "Epoch 75/100\n",
      "31/31 [==============================] - 8s 264ms/step - loss: 0.1089 - accuracy: 0.9587 - val_loss: 2.1360 - val_accuracy: 0.5938\n",
      "Epoch 76/100\n",
      "31/31 [==============================] - 8s 258ms/step - loss: 0.1609 - accuracy: 0.9545 - val_loss: 1.8521 - val_accuracy: 0.5312\n",
      "Epoch 77/100\n",
      "31/31 [==============================] - 8s 267ms/step - loss: 0.2497 - accuracy: 0.9536 - val_loss: 1.6001 - val_accuracy: 0.6250\n",
      "Epoch 78/100\n",
      "31/31 [==============================] - 8s 267ms/step - loss: 0.2337 - accuracy: 0.9483 - val_loss: 0.9367 - val_accuracy: 0.5312\n",
      "Epoch 79/100\n",
      "31/31 [==============================] - 8s 260ms/step - loss: 0.1353 - accuracy: 0.9545 - val_loss: 1.5920 - val_accuracy: 0.6875\n",
      "Epoch 80/100\n",
      "31/31 [==============================] - 8s 259ms/step - loss: 0.2600 - accuracy: 0.9360 - val_loss: 1.5304 - val_accuracy: 0.4688\n",
      "Epoch 81/100\n",
      "31/31 [==============================] - 8s 263ms/step - loss: 0.1155 - accuracy: 0.9690 - val_loss: 0.9741 - val_accuracy: 0.6562\n",
      "Epoch 82/100\n",
      "31/31 [==============================] - 8s 262ms/step - loss: 0.2653 - accuracy: 0.9132 - val_loss: 2.2635 - val_accuracy: 0.4375\n",
      "Epoch 83/100\n",
      "31/31 [==============================] - 8s 265ms/step - loss: 0.2150 - accuracy: 0.9256 - val_loss: 1.7329 - val_accuracy: 0.6250\n",
      "Epoch 84/100\n",
      "31/31 [==============================] - 8s 273ms/step - loss: 0.2776 - accuracy: 0.9194 - val_loss: 3.3782 - val_accuracy: 0.5938\n",
      "Epoch 85/100\n",
      "31/31 [==============================] - 8s 263ms/step - loss: 0.1818 - accuracy: 0.9442 - val_loss: 1.4647 - val_accuracy: 0.5625\n",
      "Epoch 86/100\n",
      "31/31 [==============================] - 8s 264ms/step - loss: 0.1321 - accuracy: 0.9649 - val_loss: 1.1134 - val_accuracy: 0.5938\n",
      "Epoch 87/100\n",
      "31/31 [==============================] - 8s 271ms/step - loss: 0.1096 - accuracy: 0.9669 - val_loss: 2.3504 - val_accuracy: 0.4062\n",
      "Epoch 88/100\n",
      "31/31 [==============================] - 8s 264ms/step - loss: 0.1817 - accuracy: 0.9442 - val_loss: 1.9806 - val_accuracy: 0.5312\n",
      "Epoch 89/100\n",
      "31/31 [==============================] - 8s 261ms/step - loss: 0.1691 - accuracy: 0.9607 - val_loss: 0.2063 - val_accuracy: 0.9375\n",
      "Epoch 90/100\n",
      "31/31 [==============================] - 8s 266ms/step - loss: 0.1181 - accuracy: 0.9607 - val_loss: 2.7312 - val_accuracy: 0.3438\n",
      "Epoch 91/100\n",
      "31/31 [==============================] - 8s 264ms/step - loss: 0.1174 - accuracy: 0.9545 - val_loss: 1.4032 - val_accuracy: 0.6250\n",
      "Epoch 92/100\n",
      "31/31 [==============================] - 8s 272ms/step - loss: 0.1180 - accuracy: 0.9669 - val_loss: 1.2615 - val_accuracy: 0.5625\n",
      "Epoch 93/100\n",
      "31/31 [==============================] - 8s 263ms/step - loss: 0.1528 - accuracy: 0.9504 - val_loss: 1.3970 - val_accuracy: 0.5312\n",
      "Epoch 94/100\n",
      "31/31 [==============================] - 8s 265ms/step - loss: 0.2289 - accuracy: 0.9442 - val_loss: 0.9623 - val_accuracy: 0.7188\n",
      "Epoch 95/100\n",
      "31/31 [==============================] - 8s 267ms/step - loss: 0.1074 - accuracy: 0.9649 - val_loss: 1.0319 - val_accuracy: 0.6250\n",
      "Epoch 96/100\n",
      "31/31 [==============================] - 8s 263ms/step - loss: 0.1731 - accuracy: 0.9421 - val_loss: 1.7824 - val_accuracy: 0.6562\n",
      "Epoch 97/100\n",
      "31/31 [==============================] - 8s 262ms/step - loss: 0.1897 - accuracy: 0.9483 - val_loss: 2.5363 - val_accuracy: 0.5625\n",
      "Epoch 98/100\n",
      "31/31 [==============================] - 8s 265ms/step - loss: 0.1397 - accuracy: 0.9483 - val_loss: 1.3412 - val_accuracy: 0.7188\n",
      "Epoch 99/100\n",
      "31/31 [==============================] - 8s 261ms/step - loss: 0.1270 - accuracy: 0.9607 - val_loss: 1.8997 - val_accuracy: 0.5312\n",
      "Epoch 100/100\n",
      "31/31 [==============================] - 8s 265ms/step - loss: 0.2466 - accuracy: 0.9442 - val_loss: 0.9333 - val_accuracy: 0.7500\n"
     ]
    }
   ],
   "source": [
    "model.compile(loss=categorical_crossentropy, optimizer='adam', metrics=['accuracy'])\n",
    "\n",
    "# steps_per_epoch = TotalTrainingSamples / TrainingBatchSize\n",
    "hist = model.fit(train_generator, steps_per_epoch=500 // batch_size, epochs=100,\n",
    "                 verbose=1, validation_data=test_generator, validation_steps=1)"
   ]
  },
  {
   "cell_type": "code",
   "execution_count": 13,
   "metadata": {},
   "outputs": [
    {
     "data": {
      "image/png": "[encoded data removed]",
      "text/plain": [
       "<Figure size 1296x288 with 2 Axes>"
      ]
     },
     "metadata": {
      "needs_background": "light"
     },
     "output_type": "display_data"
    }
   ],
   "source": [
    "plt.figure(figsize=(18,4))\n",
    "plt.subplot(1, 2, 1)\n",
    "plt.plot(hist.history['accuracy'], label='Training')\n",
    "plt.plot(hist.history['val_accuracy'], label='Test')\n",
    "plt.legend()\n",
    "plt.title('Accuracy')\n",
    "\n",
    "plt.subplot(1, 2, 2)\n",
    "plt.plot(hist.history['loss'], label='Training')\n",
    "plt.plot(hist.history['val_loss'], label='Test')\n",
    "plt.legend()\n",
    "plt.title('Loss');"
   ]
  },
  {
   "cell_type": "code",
   "execution_count": 14,
   "metadata": {
    "scrolled": true
   },
   "outputs": [],
   "source": [
    "y_pred = model.predict(test_generator)\n",
    "y_pred = np.argmax(y_pred, axis=1)"
   ]
  },
  {
   "cell_type": "code",
   "execution_count": 15,
   "metadata": {},
   "outputs": [
    {
     "data": {
      "text/plain": [
       "array([0, 0, 0, 0, 0, 0, 0, 0, 0, 0, 6, 6, 6, 6, 6, 1, 1, 1, 1, 6, 3, 3,\n",
       "       3, 2, 3, 2, 2, 2, 2, 3, 3, 3, 3, 3, 0, 3, 7, 3, 3, 3, 4, 4, 4, 4,\n",
       "       4, 4, 4, 4, 4, 4, 5, 5, 5, 5, 5, 5, 5, 5, 5, 5, 6, 6, 6, 6, 6, 5,\n",
       "       6, 6, 6, 6, 7, 7, 7, 7, 7, 7, 7, 7, 7, 7, 8, 8, 8, 8, 8, 5, 8, 8,\n",
       "       8, 8, 9, 9, 9, 9, 9, 9, 9, 9, 9, 9])"
      ]
     },
     "execution_count": 15,
     "metadata": {},
     "output_type": "execute_result"
    }
   ],
   "source": [
    "y_pred"
   ]
  },
  {
   "cell_type": "code",
   "execution_count": 16,
   "metadata": {
    "scrolled": true
   },
   "outputs": [
    {
     "data": {
      "text/plain": [
       "array([0, 0, 0, 0, 0, 0, 0, 0, 0, 0, 1, 1, 1, 1, 1, 1, 1, 1, 1, 1, 2, 2,\n",
       "       2, 2, 2, 2, 2, 2, 2, 2, 3, 3, 3, 3, 3, 3, 3, 3, 3, 3, 4, 4, 4, 4,\n",
       "       4, 4, 4, 4, 4, 4, 5, 5, 5, 5, 5, 5, 5, 5, 5, 5, 6, 6, 6, 6, 6, 6,\n",
       "       6, 6, 6, 6, 7, 7, 7, 7, 7, 7, 7, 7, 7, 7, 8, 8, 8, 8, 8, 8, 8, 8,\n",
       "       8, 8, 9, 9, 9, 9, 9, 9, 9, 9, 9, 9], dtype=int32)"
      ]
     },
     "execution_count": 16,
     "metadata": {},
     "output_type": "execute_result"
    }
   ],
   "source": [
    "test_generator.classes"
   ]
  },
  {
   "cell_type": "code",
   "execution_count": 17,
   "metadata": {},
   "outputs": [],
   "source": [
    "def accuracy(y_true, y_pred):\n",
    "    accuracy = np.sum(y_true == y_pred) / len(y_true)\n",
    "    return accuracy"
   ]
  },
  {
   "cell_type": "code",
   "execution_count": 18,
   "metadata": {},
   "outputs": [
    {
     "name": "stdout",
     "output_type": "stream",
     "text": [
      "Accuracy: 0.85\n"
     ]
    }
   ],
   "source": [
    "acc = accuracy(test_generator.classes, y_pred)\n",
    "print('Accuracy:', acc)"
   ]
  },
  {
   "cell_type": "code",
   "execution_count": 19,
   "metadata": {},
   "outputs": [],
   "source": [
    "def get_classes():\n",
    "    return get_test_generator().class_indices"
   ]
  },
  {
   "cell_type": "code",
   "execution_count": 20,
   "metadata": {},
   "outputs": [],
   "source": [
    "def plot_confusion_matrix(cm, classes, normalize=True, title='Confusion matrix'):\n",
    "    \"\"\"\n",
    "    source: https://scikit-learn.org/0.18/auto_examples/model_selection/plot_confusion_matrix.html\n",
    "    This function prints and plots the confusion matrix.\n",
    "    Normalization can be applied by setting `normalize=True`.\n",
    "    \"\"\"\n",
    "    cmap = plt.cm.get_cmap(\"Spectral\")\n",
    "    plt.figure(figsize=(10, 10))\n",
    "\n",
    "    plt.imshow(cm, interpolation='nearest', cmap=cmap)\n",
    "    plt.title(title)\n",
    "    plt.colorbar()\n",
    "\n",
    "    tick_marks = np.arange(len(classes))\n",
    "    plt.xticks(tick_marks, classes, rotation=45)\n",
    "    plt.yticks(tick_marks, classes)\n",
    "\n",
    "    if normalize:\n",
    "        cm = cm.astype('float') / cm.sum(axis=1)[:, np.newaxis]\n",
    "        cm = np.around(cm, decimals=2)\n",
    "        cm[np.isnan(cm)] = 0.0\n",
    "        print(\"Normalized confusion matrix\")\n",
    "    else:\n",
    "        print('Confusion matrix, without normalization')\n",
    "    thresh = cm.max() / 2.\n",
    "    for i, j in itertools.product(range(cm.shape[0]), range(cm.shape[1])):\n",
    "        plt.text(j, i, cm[i, j],\n",
    "                 horizontalalignment=\"center\",\n",
    "                 color=\"white\" if cm[i, j] > thresh else \"black\")\n",
    "    plt.tight_layout()\n",
    "    plt.ylabel('True label')\n",
    "    plt.xlabel('Predicted label')"
   ]
  },
  {
   "cell_type": "code",
   "execution_count": 21,
   "metadata": {
    "scrolled": false
   },
   "outputs": [
    {
     "name": "stdout",
     "output_type": "stream",
     "text": [
      "Found 100 images belonging to 10 classes.\n",
      "Normalized confusion matrix\n"
     ]
    },
    {
     "data": {
      "image/png": "[encoded data removed]",
      "text/plain": [
       "<Figure size 720x720 with 2 Axes>"
      ]
     },
     "metadata": {
      "needs_background": "light"
     },
     "output_type": "display_data"
    }
   ],
   "source": [
    "cm = confusion_matrix(test_generator.classes, y_pred)\n",
    "plot_confusion_matrix(cm, get_classes().values(), 'Confusion matrix')\n",
    "plt.show()"
   ]
  },
  {
   "cell_type": "markdown",
   "metadata": {},
   "source": [
    "# Save model"
   ]
  },
  {
   "cell_type": "code",
   "execution_count": 22,
   "metadata": {},
   "outputs": [],
   "source": [
    "# Save model for live prediction\n",
    "model.save('hand_symbols.h5')"
   ]
  },
  {
   "cell_type": "code",
   "execution_count": null,
   "metadata": {},
   "outputs": [],
   "source": []
  }
 ],
 "metadata": {
  "kernelspec": {
   "display_name": "Python 3",
   "language": "python",
   "name": "python3"
  },
  "language_info": {
   "codemirror_mode": {
    "name": "ipython",
    "version": 3
   },
   "file_extension": ".py",
   "mimetype": "text/x-python",
   "name": "python",
   "nbconvert_exporter": "python",
   "pygments_lexer": "ipython3",
   "version": "3.6.12"
  },
  "toc": {
   "base_numbering": 1,
   "nav_menu": {},
   "number_sections": true,
   "sideBar": true,
   "skip_h1_title": false,
   "title_cell": "Table of Contents",
   "title_sidebar": "Contents",
   "toc_cell": false,
   "toc_position": {
    "height": "calc(100% - 180px)",
    "left": "10px",
    "top": "150px",
    "width": "166px"
   },
   "toc_section_display": true,
   "toc_window_display": true
  }
 },
 "nbformat": 4,
 "nbformat_minor": 4
}
